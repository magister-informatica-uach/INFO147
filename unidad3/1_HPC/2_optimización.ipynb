{
 "cells": [
  {
   "cell_type": "code",
   "execution_count": null,
   "metadata": {
    "ExecuteTime": {
     "end_time": "2020-08-13T03:37:22.536902Z",
     "start_time": "2020-08-13T03:37:22.520221Z"
    }
   },
   "outputs": [],
   "source": [
    "from IPython.display import YouTubeVideo, Markdown, SVG, Code\n",
    "from functools import partial\n",
    "YouTubeVideo_formato = partial(YouTubeVideo, modestbranding=1, disablekb=0,\n",
    "                               width=640, height=360, autoplay=0, rel=0, showinfo=0)\n",
    "\n",
    "display(Markdown(filename='../../preamble.md'))"
   ]
  },
  {
   "cell_type": "code",
   "execution_count": null,
   "metadata": {
    "ExecuteTime": {
     "end_time": "2020-08-13T03:37:23.946569Z",
     "start_time": "2020-08-13T03:37:23.447160Z"
    }
   },
   "outputs": [],
   "source": [
    "%matplotlib notebook\n",
    "import numpy as np\n",
    "import matplotlib.pyplot as plt\n",
    "from functools import partial"
   ]
  },
  {
   "cell_type": "markdown",
   "metadata": {},
   "source": [
    "# ¿Qué es la optimización de códigos/software?\n",
    "\n",
    "Se refiere a modificar una rutina computacional para mejorar su eficiencia, es decir reducir sus\n",
    "\n",
    "1. Tiempos de ejecución\n",
    "1. Consumo de recursos \n",
    "\n",
    "El aspecto que se intenta modificar es aquel que limita nuestro programa, por ejemplo\n",
    "- limitado en CPU (compute-bound)\n",
    "- limitado en memoria (memory-bound)\n",
    "- limitado en ancho de banda (bandwidth-bound)\n",
    "- limitado en entrada/salida (I/O bound)\n",
    "\n",
    "En el ámbito de la computación científica lo más común es enfrentar programas que están **límitados en CPU**, es decir \n",
    "- programas que utilizan la mayor parte de su tiempo haciendo cálculos\n",
    "- programas que mejoran su rendimiento con la velocidad del CPU\n",
    "\n",
    "**Una pequeña nota sobre los *trade-offs* en optimización**\n",
    "\n",
    "En ciertos casos podemos disminuir el tiempo de ejecución de una rutina incrementando el uso de memoria \n",
    "\n",
    "Esto podría convertir un programa que es limitado en CPU a uno que es limitado en memoria\n",
    "\n",
    "Siempre debemos tener en cuenta los posibles *trade-off* e identificarlos mediante *profiling*\n"
   ]
  },
  {
   "cell_type": "markdown",
   "metadata": {},
   "source": [
    "# Unos consejos antes de optimizar\n",
    "\n",
    "## ¿Cuándo optimizar?\n",
    "\n",
    "`Si:` \n",
    "\n",
    "    tu rutina está incompleta o no entrega el resultado esperado\n",
    "    \n",
    "`Entonces:`\n",
    "\n",
    "    No es momento de optimizar \n",
    "\n",
    "Dicho de otro modo, para casi cualquier rutina que escribamos deberíamos considerar la secuencia\n",
    "1. que (la rutina) corra\n",
    "1. que (la rutina) retorne el resultado correcto\n",
    "1. (opcionalmente) que (la rutina) tenga un buen rendimiento\n",
    "\n",
    "> La optimización está asociada al último punto y se lleva a cabo luego de cumplir los dos primeros\n",
    "\n",
    "En la práctica hay que considerar que optimizar podría:\n",
    "- Hacer el código más complicado y menos legible \n",
    "- Introducir bugs\n",
    "- Tomar tiempo y bastante dedicación\n",
    "\n",
    "Por lo tanto debemos evitar optimizar de forma prematura\n",
    "\n",
    "> \"La optimización prematura es la raíz de todos los males\" - [Donald Knuth](http://wiki.c2.com/?PrematureOptimization)\n",
    "\n",
    "## ¿Por qué optimizar?\n",
    "\n",
    "En la secuencia mostrada anteriormente, podemos notar que el último punto no es esencial como lo son los dos primeros\n",
    "\n",
    "Optimizar solo es necesario si nuestro código:\n",
    "-  no entrega el resultado correcto en el tiempo requerido\n",
    "-  requiere más memoria que la disponible en el hardware donde va a correr\n",
    "\n",
    "## ¿Dónde optimizar?\n",
    "\n",
    "Evita gastar tiempo optimizando rutinas que influyan poco en el rendimiento total del programa\n",
    "\n",
    "La optimización debería concentrarse en las secciones más lentas y/o costosas\n",
    "\n",
    "> Previo a optimizar debemos hacer un *profiling* de nuestro código para encontrar las secciones críticas"
   ]
  },
  {
   "cell_type": "markdown",
   "metadata": {},
   "source": [
    "\n",
    "# Python y rendimiento | Parte 2\n",
    "\n",
    "Como ya hemos mencionado **Python** es un lenguaje versátil pero poco eficiente en comparación a lenguajes de bajo nivel (C o Fortran)\n",
    "\n",
    "Recordemos que **Python** es un lenguaje **interpretado**. Consideremos la operación\n",
    "\n",
    "    z = x + y\n",
    "    \n",
    "Esta operación sencilla requiere de <font color=\"red\">inferir el tipo</font> de $x$ e $y$ antes de sumarlos, luego debe <font color=\"red\">escoger la función \"suma\" apropiada</font> y finalmente <font color=\"red\">retornar el tipo correcto</font> de z\n",
    "\n",
    "El costo de las operaciones en rojo se llama **overhead**, y es el **costo extra** de Python versus los lenguajes compilados\n",
    "\n",
    "> Python nos da simpleza al costo de la eficiencia\n",
    "\n",
    "Sin embargo, existen varias maneras de mejorar la eficiencia de un código escrito en Python. En esta clase veremos tres:\n",
    "\n",
    "La primera y más fundamental es \n",
    "\n",
    "> **Conocer el lenguaje**: Usar la sintaxis y estructuras de Python adecuadamente \n",
    "\n",
    "Si tenemos un problema basado en arreglos podemos mejorar la eficiencia en varios órdenes de magnitud usando\n",
    "\n",
    "> **Vectorización:** Cómputo basado en arreglos con `NumPy`\n",
    "\n",
    "Finalmente, si las estructuras disponibles no son suficientes o si nuestros cálculos no son vectorizables se puede\n",
    "\n",
    "> **Conectar con lenguajes de bajo nivel:** Uniendo Python y C con `Cython`\n",
    "\n",
    "En la clase siguiente veremos como aprovechar las arquitecturas de CPU multi-nucleo con `Multiprocessing`"
   ]
  },
  {
   "cell_type": "markdown",
   "metadata": {},
   "source": [
    "# Conocer el lenguaje para ganar eficiencia\n",
    "\n",
    "**Python** tiene una curva de aprendizaje suave en comparación a lenguajes de más bajo nivel\n",
    "\n",
    "Sabiendo muy poco de **Python** ya somos capaces de escribir toda clase de rutinas\n",
    "\n",
    "Esto tiene un efecto secundario negativo en algunas personas y especialmente en aquellos que ya saben otros lenguajes \n",
    "\n",
    "> **Grave error:** Usar Python como si fuera C (o otro lenguaje)\n",
    "\n",
    "Python ofrece una gran cantidad de [funciones](https://docs.python.org/3/library/functions.html) y [módulos en su librería estándar](https://docs.python.org/3/library/index.html) que son sumamente eficientes\n",
    "\n",
    "Usar la sintáxis y las [estructuras de datos](https://docs.python.org/3/tutorial/datastructures.html) de Python adecuadamente es el primer paso para escribir código eficiente \n",
    "\n",
    "> Tenga siempre presente lo aprendido en su curso de algoritmos y busque en la documentación de Python las estructuras de datos más apropiadas para cada problema\n",
    "\n",
    "Si necesita repasar se recomienda el siguiente material\n",
    "- Bibliografía complementaria del curso: [Effective Python](https://effectivepython.com/)\n",
    "- [Tratado de algoritmos y estructuras de datos en Python](https://runestone.academy/runestone/books/published/pythonds/index.html)\n",
    "- [Consejos de velocidad en la Python wiki](https://wiki.python.org/moin/PythonSpeed)\n",
    "- [Complejidad temporal de distintas estructuras de Python](https://wiki.python.org/moin/TimeComplexity)\n",
    "\n",
    "A continuación algunos consejos generales"
   ]
  },
  {
   "cell_type": "markdown",
   "metadata": {},
   "source": [
    "##  Evita usar `for` siempre que se pueda en favor de las funciones nativas\n",
    "\n",
    "Muchas veces podemos evitar usar `for` con la estructura de datos o función adecuada\n",
    "\n",
    "Para ejemplificar digamos que queremos sumar los valores absolutos de los elementos de una lista"
   ]
  },
  {
   "cell_type": "code",
   "execution_count": null,
   "metadata": {
    "ExecuteTime": {
     "end_time": "2020-08-13T03:41:48.138343Z",
     "start_time": "2020-08-13T03:41:47.563315Z"
    }
   },
   "outputs": [],
   "source": [
    "x = [x for x in range(100000)]\n",
    "\n",
    "# Suma estilo C \n",
    "def suma_abs(data):\n",
    "    resultado = 0\n",
    "    for i in range(len(data)):\n",
    "        if data[i] > 0:\n",
    "            resultado += data[i]\n",
    "        else:\n",
    "            resultado -= data[i]\n",
    "    return resultado\n",
    "\n",
    "%timeit -r5 -n3 suma_abs(x)\n",
    "display(suma_abs(x))\n",
    "\n",
    "# Mejora: No es necesario usar un índice, podemos iterar directamente en los elementos\n",
    "def suma_abs(data):\n",
    "    resultado = 0\n",
    "    for element in data:\n",
    "        if element > 0:\n",
    "            resultado += element\n",
    "        else:\n",
    "            resultado -= element\n",
    "    return resultado\n",
    "\n",
    "%timeit -r5 -n3 suma_abs(x)\n",
    "display(suma_abs(x))\n",
    "\n",
    "# Mejora: Operar como una comprensión de lista y luego usar la función sum de Python\n",
    "%timeit -r5 -n3 sum([x if x> 0 else -x for x in x])\n",
    "display(sum([x if x> 0 else -x for x in x]))\n",
    "\n",
    "# Mejora: Usar las funciones sum, map y abs de Python\n",
    "%timeit -r5 -n3 sum(list(map(abs, x)))\n",
    "display(sum(list(map(abs, x))))"
   ]
  },
  {
   "cell_type": "markdown",
   "metadata": {},
   "source": [
    "## No reinventes la rueda con las estructuras de datos\n",
    "\n",
    "Verifica si la estructura que necesitas está implementada en Python antes de programarla tu"
   ]
  },
  {
   "cell_type": "code",
   "execution_count": null,
   "metadata": {
    "ExecuteTime": {
     "end_time": "2020-08-13T03:43:45.322773Z",
     "start_time": "2020-08-13T03:43:45.204064Z"
    }
   },
   "outputs": [],
   "source": [
    "x2 = list(np.random.randint(10, size=10000))\n",
    "\n",
    "# Un contador de elementos\n",
    "def miCounter(data):\n",
    "    count = {}\n",
    "    for element in data:\n",
    "        if element not in count:\n",
    "            count[element] = 1\n",
    "        else:\n",
    "            count[element] +=1\n",
    "    return count\n",
    "\n",
    "%timeit -r7 -n1 miCounter(x2)\n",
    "display(miCounter(x2))\n",
    "\n",
    "# Pero esto ya existe en collections\n",
    "from collections import Counter\n",
    "%timeit -r7 -n1 Counter(x2)\n",
    "display(Counter(x2))"
   ]
  },
  {
   "cell_type": "markdown",
   "metadata": {},
   "source": [
    "## Ojo con el overhead en funciones\n",
    "\n",
    "Python tiene un overhead considerable cada vez que se llama una función\n",
    "\n",
    "Se puede ganar desempeño haciendo *inlining* de funciones"
   ]
  },
  {
   "cell_type": "code",
   "execution_count": null,
   "metadata": {
    "ExecuteTime": {
     "end_time": "2020-08-13T03:44:08.252256Z",
     "start_time": "2020-08-13T03:44:07.490198Z"
    }
   },
   "outputs": [],
   "source": [
    "def cuadradomasuno(element):\n",
    "    return element*element + 1\n",
    "\n",
    "%timeit -r7 -n3 [cuadradomasuno(xi) for xi in x]\n",
    "#Inlining: escribo la función textualmente en lugar de evaluarla\n",
    "%timeit -r7 -n3 [xi*xi + 1 for xi in x] \n",
    "np.allclose([cuadradomasuno(xi) for xi in x], [xi*xi + 1 for xi in x] )"
   ]
  },
  {
   "cell_type": "markdown",
   "metadata": {},
   "source": [
    "## Usa variables locales dentro de los loops\n",
    "\n",
    "Si estamos obligados a usar `for` podemos ganar algo de rendimiento haciendo copias locales de atributos y funciones\n",
    "\n",
    "Digamos que queremos crear una lista con todos los elementos de otra lista que cumplen la condición\n",
    "$$\n",
    "\\sin(x[i]) > 0 \n",
    "$$"
   ]
  },
  {
   "cell_type": "code",
   "execution_count": null,
   "metadata": {
    "ExecuteTime": {
     "end_time": "2020-08-13T03:44:48.898743Z",
     "start_time": "2020-08-13T03:44:48.243209Z"
    }
   },
   "outputs": [],
   "source": [
    "import math\n",
    "\n",
    "# iterando sobre la lista\n",
    "def sin_pos(data):\n",
    "    resultado = []\n",
    "    for element in data:\n",
    "        if math.sin(element) > 0:\n",
    "            resultado.append(element)\n",
    "    return resultado\n",
    "\n",
    "%timeit -r5 -n3 sin_pos(x)\n",
    "resultado1 = sin_pos(x)\n",
    "\n",
    "# variables locales\n",
    "def sin_pos(data):\n",
    "    resultado = []\n",
    "    append = resultado.append\n",
    "    sin = math.sin\n",
    "    for element in data:\n",
    "        if sin(element) > 0:\n",
    "            append(element)\n",
    "    return resultado\n",
    "\n",
    "%timeit -r5 -n3 sin_pos(x)\n",
    "resultado2 = sin_pos(x)\n",
    "display(np.allclose(resultado1, resultado2))"
   ]
  },
  {
   "cell_type": "markdown",
   "metadata": {},
   "source": [
    "# Vectorización: Cómputo basado en arreglos con NumPy\n",
    "\n",
    "\n",
    "Consideremos el escenario en que tenemos un arreglo de datos de gran tamaño y queremos hacer una operación sobre cada elemento\n",
    "\n",
    "**Ejemplo:** Dado $\\{x\\}_i$ queremos encontrar\n",
    "$$\n",
    "y_i = \\frac{1}{1 + e^{-x_i}}, \\quad i = 1,2,\\ldots, N\n",
    "$$\n",
    "\n",
    "Cómputos de este tipo se catalogan como *\n",
    "\n",
    "> SIMD*: Single Instruction Multiple Data, \n",
    "\n",
    "es decir que estamos haciendo una misma operación para todos los datos\n",
    "\n",
    "Este problema se puede resolver usando un ciclo `for` \n",
    "    \n",
    "    y = []\n",
    "    for xi in x:\n",
    "        y.append(1/(1+math.exp(-xi))\n",
    "        \n",
    "pero ya sabemos que esto es ineficiente en \"Python puro\"\n",
    "\n",
    "> Las librerías de cómputo científico vistas en este curso nos ofrecen una mejor alternativa\n",
    "\n",
    "En particular, **NumPy** nos provee de una estructura de arreglo multidimensional (ndarray) y funciones para operarla que están escritas en C y Fortran. Otras librerías como **Scipy** y **Pandas** se basan en **NumPy**\n",
    "\n",
    "> Cuando utilizamos estas librerías estamos usando código compilado en lugar de interpretado \n",
    "\n",
    "Usando **NumPy** podemos reemplazar un ciclo `for` en problemas *SIMD* por operaciones que trabajan sobre todo el arreglo: **operaciones vectoriales**\n",
    "\n",
    "**Ejemplo**\n",
    "\n",
    "    y = 1/(1+np.exp(-x))\n",
    "    \n",
    "NumPy aplica la función exponencial a todo el arreglo x, luego aplica la aritmética (suma y división) a cada elemento del arreglo (broadcasting) y finalmente retorna un nuevo arreglo con el resultado\n",
    "\n",
    "En general siempre que exista una operación de tipo *SIMD* podemos mejorar su rendimiento usando \n",
    "\n",
    "> **Vectorización:** Reemplazar un bucle/ciclo por operaciones vectoriales de **NumPy**\n",
    "\n",
    "A continuación revisaremos mediante ejemplos como implementar este y otros conceptos para mejorar el rendimiento"
   ]
  },
  {
   "cell_type": "markdown",
   "metadata": {},
   "source": [
    "## Reemplazar ciclo `for` por operaciones vectoriales\n",
    "\n",
    "Las operaciones vectoriales son <font color=\"red\"> funciones de NumPy</font> de tipo *element-wise* <font color=\"red\">aplicadas sobre un ndarray</font>\n",
    "\n",
    "Las funciones *element-wise* son aquellas que actuan sobre todos los elementos del arreglo de forma independiente\n",
    "- En la clase de NumPy (unidad 1) revisamos algunos ejemplos: exponenciación, raíces, trigonometrícas, etc\n",
    "- Las operaciones aritméticas entre ndarrays son por defecto *element-wise*\n",
    "\n",
    "Luego si tenemos un problema SIMD escrito con un `for` sobre un conjunto de datos podemos \n",
    "1. Convertir los datos a ndarray\n",
    "1. Escribir la operación con funciones de NumPy *element-wise*\n",
    "\n",
    "y ganar considerablemente en eficiencia de forma directa\n",
    "\n",
    "> Cuando las operaciones de NumPy se ejecutan sobre un ndarray se usa código compilado"
   ]
  },
  {
   "cell_type": "markdown",
   "metadata": {},
   "source": [
    "Notemos la diferencia en tiempo de cómputo al hacer aritmética simple"
   ]
  },
  {
   "cell_type": "code",
   "execution_count": null,
   "metadata": {
    "ExecuteTime": {
     "end_time": "2020-08-13T03:47:43.706596Z",
     "start_time": "2020-08-13T03:47:42.930149Z"
    }
   },
   "outputs": [],
   "source": [
    "x_ndarray = np.random.randn(100000)\n",
    "x_list = list(x_ndarray)\n",
    "\n",
    "def operacion_simple(data):\n",
    "    resultado = []\n",
    "    append = resultado.append\n",
    "    for elemento in data:\n",
    "        append(elemento*elemento + elemento)\n",
    "    return resultado\n",
    "\n",
    "# Operación usando \"for con mejoras\"\n",
    "%timeit -n3 -r7 operacion_simple(x_list)\n",
    "# Operación usando numpy sobre un ndarray\n",
    "%timeit -n3 -r7 x_ndarray*x_ndarray + x_ndarray\n",
    "# Comparación entre los resultados\n",
    "np.allclose(operacion_simple(x_list), x_ndarray*x_ndarray + x_ndarray)"
   ]
  },
  {
   "cell_type": "markdown",
   "metadata": {},
   "source": [
    "Consideremos que\n",
    "\n",
    "> Las funciones de NumPy son lentas cuando operan sobre tipos que no son ndarray\n",
    "\n",
    "Para el ejemplo de $y_i = (1 + e^{-x_i})^{-1}, \\quad i = 1,2,\\ldots, N$"
   ]
  },
  {
   "cell_type": "code",
   "execution_count": null,
   "metadata": {
    "ExecuteTime": {
     "end_time": "2020-08-13T03:47:54.171694Z",
     "start_time": "2020-08-13T03:47:53.504476Z"
    }
   },
   "outputs": [],
   "source": [
    "from math import exp\n",
    "# usando list comprehension (similar a un \"for mejorado\")\n",
    "%timeit -n3 -r7 [1./(1.+exp(xi)) for xi in x_list]\n",
    "# usando numpy sobre una lista\n",
    "%timeit -n3 -r7 1./(1+np.exp(x_list))\n",
    "# usando numpy sobre un ndarray\n",
    "%timeit -n3 -r7 1./(1+np.exp(x_ndarray))\n",
    "# Comparación entre los resultados\n",
    "np.allclose(1./(1+np.exp(x_ndarray)), [1./(1.+exp(xi)) for xi in x_list])"
   ]
  },
  {
   "cell_type": "markdown",
   "metadata": {},
   "source": [
    "Las operación sobre ndarray es casi un orden de magnitud más rápida\n",
    "\n",
    "**¿Cómo se explica esto?**\n",
    "\n",
    "Una lista puede tener distintos tipos y estar guardada en distintos sectores de memoria\n",
    "\n",
    "En cambio, el ndarray\n",
    "- Tiene un tipo definido \n",
    "- Está guardado en bloques de memoria contiguos\n",
    "\n",
    "> El ndarray tiene un overhead de interpretador mucho menor \n",
    "\n",
    "NumPy está escrito en C, hacer un loop en memoría contigua en C es muy eficiente\n",
    "\n",
    "> Se aprovechan las funciones eficientes de NumPy\n",
    "\n",
    "Además se aprovecha mejor las capacidades del hardware \n",
    "\n",
    "> Recuerdo de arquitectura de computadores: Cache de CPU e instrucciones vectoriales de CPU (Intel AVX)\n"
   ]
  },
  {
   "cell_type": "markdown",
   "metadata": {},
   "source": [
    "## Convertir operaciones lógicas sobre arreglos en máscaras\n",
    "\n",
    "Las operaciones lógicas en NumPy también son *element-wise* (Operaciones booleanas, clase NumPy, unidad 1)\n",
    "\n",
    "Si queremos recuperar los elementos de un arreglo que cumplan una cierta condición podemos\n",
    "1. Convertir los datos a ndarray\n",
    "1. Escribir la operación como una máscara booleana de índices\n",
    "\n",
    "Para el ejemplo anterior de recuperamos los elementos tal que $\\sin(x_i)>0$"
   ]
  },
  {
   "cell_type": "code",
   "execution_count": null,
   "metadata": {
    "ExecuteTime": {
     "end_time": "2020-08-13T03:48:49.477757Z",
     "start_time": "2020-08-13T03:48:49.161309Z"
    }
   },
   "outputs": [],
   "source": [
    "import math\n",
    "\n",
    "def sin_pos(data):\n",
    "    resultado = []\n",
    "    append = resultado.append\n",
    "    sin = math.sin\n",
    "    for element in data:\n",
    "        if sin(element) > 0:\n",
    "            append(element)\n",
    "    return resultado\n",
    "\n",
    "%timeit -r5 -n3 sin_pos(x_list)\n",
    "\n",
    "%timeit -r5 -n3 x_ndarray[np.sin(x_ndarray) > 0.]\n",
    "\n",
    "display(np.allclose(sin_pos(x_list), x_ndarray[np.sin(x_ndarray) > 0]))"
   ]
  },
  {
   "cell_type": "markdown",
   "metadata": {},
   "source": [
    "## Usa operaciónes *in-place* y vistas de arreglos para evitar copia extra de datos\n",
    "\n",
    "Cuando en NumPy hacemos\n",
    "\n",
    "    x = x*x\n",
    "    \n",
    "Se crea una copia interna de x*x, y luego x es direccionado a esa nueva copia\n",
    "\n",
    "La zona de memoria con el valor original es luego eliminada por el *garbage-collector* de Python\n",
    "\n",
    "> Siempre que no necesitemos el valor original podemos usar operaciones *in-place* y ganar rendimiento\n",
    "\n",
    "Ya que evitamos la copia y eliminación adicional"
   ]
  },
  {
   "cell_type": "code",
   "execution_count": null,
   "metadata": {
    "ExecuteTime": {
     "end_time": "2020-08-13T03:49:09.217253Z",
     "start_time": "2020-08-13T03:49:08.599791Z"
    }
   },
   "outputs": [],
   "source": [
    "# Copia interna y cambio de referencia de x_ndarray \n",
    "%timeit -r10 -n10 x_ndarray = np.zeros(shape=(1000000)); y = x_ndarray*x_ndarray\n",
    "# Sin copia interna\n",
    "%timeit -r10 -n10 x_ndarray = np.zeros(shape=(1000000)); x_ndarray *= x_ndarray\n",
    "# El resultado es idéntico\n",
    "x_ndarray = np.zeros(shape=(1000000))\n",
    "y = x_ndarray*x_ndarray\n",
    "x_ndarray *= x_ndarray\n",
    "np.allclose(x_ndarray, y)"
   ]
  },
  {
   "cell_type": "markdown",
   "metadata": {},
   "source": [
    "Sea $x$ un arreglo, la operación\n",
    "\n",
    "    x[2:10] \n",
    "    \n",
    "es una \"vista de x\"\n",
    "\n",
    "Las \"vista de arreglo\" no hacen copias en memoria ya que apuntan directamente al arreglo original\n",
    "\n",
    "> Si modificamos una vista modificamos el original"
   ]
  },
  {
   "cell_type": "markdown",
   "metadata": {},
   "source": [
    "## Aprovecha el *broadcasting* automático de NumPy\n",
    "\n",
    "Se pueden hacer operaciones vectorizadas con NumPy entre arreglos con tamaños distintos\n",
    "\n",
    "En ese caso se aplican las reglas de *broadcasting* que vimos en la unidad 1 (clase NumPy)\n",
    "\n",
    "El *broadcasting* automático no hace copias en memoria\n",
    "\n",
    "- Si le sumas una constante a un arreglo 1D, la constante se expande y se suma a cada elemento"
   ]
  },
  {
   "cell_type": "code",
   "execution_count": null,
   "metadata": {
    "ExecuteTime": {
     "end_time": "2020-08-13T03:50:00.078588Z",
     "start_time": "2020-08-13T03:49:58.908980Z"
    }
   },
   "outputs": [],
   "source": [
    "N = 1000000\n",
    "x = np.zeros(shape=(N, ))\n",
    "# broadcasting automático\n",
    "%timeit -n10 -r10 x + 1.\n",
    "# Agrandando y luego sumando\n",
    "%timeit -n10 -r10 x + np.tile([1], len(x))\n",
    "# mismo resultado\n",
    "np.allclose(x + 1, x + np.tile([1], len(x)))"
   ]
  },
  {
   "cell_type": "markdown",
   "metadata": {},
   "source": [
    "- Si le sumas un arreglo 1D a un arreglo 2D, el arreglo 1D se expande en la dimensión que le falta"
   ]
  },
  {
   "cell_type": "code",
   "execution_count": null,
   "metadata": {
    "ExecuteTime": {
     "end_time": "2020-08-13T03:50:13.689969Z",
     "start_time": "2020-08-13T03:50:03.628701Z"
    }
   },
   "outputs": [],
   "source": [
    "N, M = 10000, 1000\n",
    "x = np.zeros(shape=(N, M)) # arreglo de NxM\n",
    "y = np.zeros(shape=(N, )) # arreglo sin dimensión\n",
    "y_ = y[:, np.newaxis] # arreglo de Nx1\n",
    "# broadcasting automático\n",
    "%timeit -n10 -r10 x + y_\n",
    "display((x + y_).shape)\n",
    "# Agrandando y luego sumando\n",
    "%timeit -n10 -r10 x + np.tile(y_, (1, x.shape[-1]))\n",
    "# mismo resultado\n",
    "np.allclose(x + y_, x + np.tile(y_, (1, x.shape[-1])))"
   ]
  },
  {
   "cell_type": "markdown",
   "metadata": {},
   "source": [
    "- Si sumas un arreglo 1D fila y un arreglo 1D columna se crea un arreglo 2D"
   ]
  },
  {
   "cell_type": "code",
   "execution_count": null,
   "metadata": {
    "ExecuteTime": {
     "end_time": "2020-08-13T03:50:42.242468Z",
     "start_time": "2020-08-13T03:50:29.274856Z"
    }
   },
   "outputs": [],
   "source": [
    "N, M = 10000, 1000\n",
    "x = np.zeros(shape=(N, 1)) # arreglo columna de Nx1\n",
    "y = np.zeros(shape=(1, M)) # arreglo fila de 1xM\n",
    "# broadcasting automático\n",
    "%timeit -n10 -r10 x + y\n",
    "display((x+y).shape)\n",
    "# Agrandando y luego sumando\n",
    "%timeit -n10 -r10 np.tile(y, (x.shape[0], 1)) + np.tile(x, (1, y.shape[-1]))\n",
    "np.allclose(x + y, np.tile(y, (x.shape[0], 1)) + np.tile(x, (1, y.shape[-1])))"
   ]
  },
  {
   "cell_type": "markdown",
   "metadata": {},
   "source": [
    "Regla de oro\n",
    "\n",
    "> Las dimensiones de dos arreglos son compatibles con *broadcast* automático si **son del mismo tamaño** o **una de ellas es igual a uno**"
   ]
  },
  {
   "cell_type": "markdown",
   "metadata": {},
   "source": [
    "## Utiliza el ordenamiento en memoría más adecuado en cada caso\n",
    "\n",
    "Como vimos en la unidad 1 (clase NumPy), los ndarray multidimensionales pueden guardarse en memoria como *row-major* (filas contiguas) o *column-major* (columnas contiguas)\n",
    "\n",
    "Por defecto las matrices en NumPy son *row-major* pero podemos forzar la contigüidad usando el atributo `order` o trasponiendo (ojo que trasponer crea una copia)\n",
    "\n",
    "Se puede verificar esto con el atributo `flag`"
   ]
  },
  {
   "cell_type": "code",
   "execution_count": null,
   "metadata": {
    "ExecuteTime": {
     "end_time": "2020-08-13T03:51:09.967501Z",
     "start_time": "2020-08-13T03:51:09.952745Z"
    }
   },
   "outputs": [],
   "source": [
    "data = np.arange(6).reshape(2, 3)\n",
    "display(data)\n",
    "# Verificamos los flags\n",
    "display(data.flags)\n",
    "# Así se ve row-major en memoria \n",
    "display(data.ravel())\n",
    "# Verificamos los flags\n",
    "dataT = data.T\n",
    "display(dataT.flags)\n",
    "# Así se ve column-major en memoria\n",
    "display(dataT.ravel())"
   ]
  },
  {
   "cell_type": "markdown",
   "metadata": {},
   "source": [
    "La mayoría de las funciones de NumPy funcionan más rápido en formato *row-major* (formato C)\n",
    "\n",
    "Algunas funciones de scipy (heredadas de Fortran) funcionan más rápido en formato *col-major* (formato Fortran)\n",
    "\n",
    "Es recomendable verificar el orden en memoria que espera la función que vas a utilizar"
   ]
  },
  {
   "cell_type": "code",
   "execution_count": null,
   "metadata": {
    "ExecuteTime": {
     "end_time": "2020-08-13T03:51:41.293763Z",
     "start_time": "2020-08-13T03:51:19.170313Z"
    }
   },
   "outputs": [],
   "source": [
    "data = np.random.randn(10000, 10000) # (row-major)\n",
    "# Sumando una fila\n",
    "%timeit -n100 -r10 np.sum(data[0, :])\n",
    "# Sumando todas las filas\n",
    "%timeit -n10 -r10 np.sum(data, axis=1)\n",
    "# Sumando una columna\n",
    "%timeit -n100 -r10 np.sum(data[:, 0])\n",
    "# Sumando todas las columnas\n",
    "%timeit -n10 -r10 np.sum(data, axis=0)\n",
    "# Sumando todas las columnas de la matriz traspuesta (column major)\n",
    "%timeit -n10 -r10 np.sum(data.T, axis=0)"
   ]
  },
  {
   "cell_type": "markdown",
   "metadata": {},
   "source": [
    "# Ejemplo: Vectorizando el cálculo del \"Set de Julia\"\n",
    "\n",
    "Consideremos el código en \"Python puro\" que vimos en la clase de *profiling*"
   ]
  },
  {
   "cell_type": "code",
   "execution_count": null,
   "metadata": {
    "ExecuteTime": {
     "end_time": "2020-08-13T03:52:00.427854Z",
     "start_time": "2020-08-13T03:51:58.927602Z"
    }
   },
   "outputs": [],
   "source": [
    "def evaluate(zi, zr, maxiters=50, cr=-0.835, ci=-0.2321):\n",
    "    nit = 0\n",
    "    zi2 = zi*zi\n",
    "    zr2 = zr*zr\n",
    "    while zi2 + zr2 <= 4. and nit < maxiters:\n",
    "        zi = 2*zr*zi + ci\n",
    "        zr = zr2 - zi2 + cr\n",
    "        zr2 = zr*zr\n",
    "        zi2 = zi*zi\n",
    "        nit +=1\n",
    "    return nit\n",
    "    \n",
    "def make_fractal(N, maxiters=50):\n",
    "    image = []\n",
    "    for i in range(N):\n",
    "        row = []\n",
    "        for j in range(2*N):\n",
    "            zi = -1.0 + i*2/N\n",
    "            zr = -2.0 + j*2/N\n",
    "            row.append(evaluate(zi, zr, maxiters))\n",
    "        image.append(row)\n",
    "    return image\n",
    "\n",
    "plt.figure(figsize=(8, 4), tight_layout=True)\n",
    "plt.gca().axis('off')\n",
    "plt.imshow(make_fractal(500));"
   ]
  },
  {
   "cell_type": "markdown",
   "metadata": {},
   "source": [
    "El tiempo total para calcular el fractal con una resolución de 500x1000 es"
   ]
  },
  {
   "cell_type": "code",
   "execution_count": null,
   "metadata": {
    "ExecuteTime": {
     "end_time": "2020-08-13T03:52:08.744863Z",
     "start_time": "2020-08-13T03:52:04.816632Z"
    }
   },
   "outputs": [],
   "source": [
    "%timeit -r3 -n1 make_fractal(500)"
   ]
  },
  {
   "cell_type": "markdown",
   "metadata": {},
   "source": [
    "Estudiando el código nos damos cuenta que la función `evaluate` se ejecuta de forma secuencial para cada uno de los 500x1000 píxeles\n",
    "\n",
    "Si guardamos la imagen y los valores de $z$ como un `ndarray` podemos actualizar todos los pixeles \"al mismo tiempo\""
   ]
  },
  {
   "cell_type": "code",
   "execution_count": null,
   "metadata": {
    "ExecuteTime": {
     "end_time": "2020-08-13T03:52:13.080728Z",
     "start_time": "2020-08-13T03:52:11.302270Z"
    }
   },
   "outputs": [],
   "source": [
    "def make_fractal_vectorized(N, maxiters=50):\n",
    "    image = np.zeros(shape=(N, 2*N), dtype=np.int64)\n",
    "    zi = np.linspace(-1, 1, num=N, endpoint=False)[:, None]\n",
    "    zr = np.linspace(-2, 2, num=2*N, endpoint=False)[:, None]\n",
    "    # Creamos arreglos de 2NxN para zi y zr \n",
    "    zi = np.repeat(zi, repeats=2*N, axis=1)\n",
    "    zr = np.repeat(zr.T, repeats=N, axis=0)\n",
    "    cr, ci = -0.835, -0.2321\n",
    "    nit = 0\n",
    "    while nit < maxiters:\n",
    "        zr2 = zr*zr # operaciones vectoriales\n",
    "        zi2 = zi*zi\n",
    "        mask = zr2 + zi2 <= 4. #mascara booleana\n",
    "        image[mask] += 1\n",
    "        zi[mask] = 2*zr[mask]*zi[mask] + ci\n",
    "        zr[mask] = zr2[mask] - zi2[mask] +  cr\n",
    "        nit += 1\n",
    "    return image\n",
    "\n",
    "# Los resultados comparados:\n",
    "np.allclose(make_fractal(500), make_fractal_vectorized(500))"
   ]
  },
  {
   "cell_type": "markdown",
   "metadata": {},
   "source": [
    "El resultado es idéntico al código secuencial en \"Python puro\"\n",
    "\n",
    "El tiempo total para calcular el fractal usando el código vectorizado es:"
   ]
  },
  {
   "cell_type": "code",
   "execution_count": null,
   "metadata": {
    "ExecuteTime": {
     "end_time": "2020-08-13T03:52:19.627605Z",
     "start_time": "2020-08-13T03:52:18.599054Z"
    }
   },
   "outputs": [],
   "source": [
    "%timeit -r3 -n1 make_fractal_vectorized(500)"
   ]
  },
  {
   "cell_type": "markdown",
   "metadata": {},
   "source": [
    "El *speed-up* es el tiempo de la nueva rutina dividido el tiempo de referencia (rutina secuencial)\n",
    "\n",
    "¿Cuánto es el *speed-up* en este caso?"
   ]
  },
  {
   "cell_type": "markdown",
   "metadata": {},
   "source": [
    "**Propuesto**\n",
    "\n",
    "- Usa operaciones *inplace* para aumentar el rendimiento\n",
    "- Además:\n",
    "    - En cada iteración del `while` calculamos el cuadrado de todos los $z$ \n",
    "    - Sin embargo lo más correcto sería calcular los cuadrados solo para los $z$ que cumplieron con la condición $|z| < 4$ la iteración anterior\n",
    "    - Considere esta observación para optimizar aun más el código de `make_fractal_vectorized` ¿Cuánto *speed-up* obtienes?"
   ]
  },
  {
   "cell_type": "markdown",
   "metadata": {},
   "source": [
    "# CPython \n",
    "\n",
    "La [implementación](https://wiki.python.org/moin/PythonImplementations) de Python más utilizada está escrita en C y se llama [CPython](https://github.com/python/cpython)\n",
    "\n",
    "La implementación es aquello que interpreta y corre el código escrito en Python\n",
    "\n",
    "Otras implementaciones de Python:\n",
    "- [PyPy](http://www.pypy.org/en)\n",
    "- [Jython](https://www.jython.org/) (escrito en Java)\n",
    "- IronPython (escrito en C#)\n",
    "\n",
    "CPython compila el código escrito en Python en un código de máquina (binario). Luego CPython interpreta el binario\n",
    "\n",
    "Podemos estudiar dicho código usando el módulo [dis](https://docs.python.org/3.7/library/dis.html) de Python"
   ]
  },
  {
   "cell_type": "code",
   "execution_count": null,
   "metadata": {
    "ExecuteTime": {
     "end_time": "2020-08-13T03:54:13.588360Z",
     "start_time": "2020-08-13T03:54:13.576285Z"
    }
   },
   "outputs": [],
   "source": [
    "import dis\n",
    "dis.dis(make_fractal)"
   ]
  },
  {
   "cell_type": "markdown",
   "metadata": {},
   "source": [
    "Si sabemos C podemos usar la [API de Python/C](https://docs.python.org/3/c-api/index.html) para \n",
    "1. Escribir modulos de C que puedan llamarse desde Python\n",
    "1. Hacer interfaces entre código C y Python\n",
    "\n",
    "Sin embargo la API es complicada y existen alternativas menos tediosas para lograr estos objetivos\n",
    "- [ctypes](https://docs.python.org/2/library/ctypes.html) \n",
    "- [CFFI](https://cffi.readthedocs.io/en/latest/)\n",
    "- [SWIG](http://swig.org/)\n",
    "- Cython\n",
    "\n",
    "A continuación nos enfocaremos en esta última"
   ]
  },
  {
   "cell_type": "markdown",
   "metadata": {},
   "source": [
    "\n",
    "# [Cython](https://cython.org/): C Extensions for Python\n",
    "\n",
    "Recordemos:\n",
    "\n",
    "**Python** es un lenguaje interpretado con tipos dinámicos. Esto hace que cada operación tenga un overhead.\n",
    "\n",
    "    z = x + y\n",
    "    # overhead: Inferir el tipo de x\n",
    "    # overhead: Inferir el tipo de y\n",
    "    # Hacer la operación suma\n",
    "    # overhead: Darle el tipo adecuado a z\n",
    "   \n",
    "en cambio:\n",
    "\n",
    "**Cython** es un lenguaje de programación que le agrega a Python algunas propiedades de C y C++, una de ellas son los **tipos estáticos**\n",
    "\n",
    "    int x = 1\n",
    "    int y = 2\n",
    "    int z = x + y\n",
    "    # No hay que inferir el tipo de x, y, z\n",
    "\n",
    "- Esto hace que Cython sea menos flexible pero decenas de veces más rápido que  Python\n",
    "- En términos de sintaxis Cython es casi tan simple como Python \n",
    "- A diferencia de Python, el lenguaje Cython debe compilarse\n",
    "    - El compilador de Cython convierte el código fuente en código C \n",
    "    - Luego el código C se compila como un módulo de Python con la implementación **CPython**\n",
    "\n",
    "En pocas palabras\n",
    "> Una vez compilado el código escrito en Cython puede llamarse desde Python!\n",
    "\n",
    "¿Por qué considerar Cython?\n",
    "- Cython es casi tan simple como Python y casi tan rápido como C\n",
    "- Con Cython se pueden llamar funciones y librerías de C\n",
    "- Cython se integra de buena manera con NumPy\n",
    "\n",
    "Por ende Cython es muy atractivo para proyectos que usen Python y tengan requisitos de alto rendimiento\n",
    "\n",
    "Estudiemos la sintaxis de Cython mediante algunos ejemplos"
   ]
  },
  {
   "cell_type": "markdown",
   "metadata": {},
   "source": [
    "## Ejemplo: Distancia euclidiana todos-con-todos\n",
    "\n",
    "Sea un conjunto de $N=1000$ datos bidimensionales ($D=2$)\n",
    "\n",
    "Queremos calcular la distancia euclidiana de cada dato con todos los demás, es decir una matriz donde el elemento $ij$ es \n",
    "\n",
    "$$\n",
    "\\text{dist}_{ij} = \\sqrt {\\sum_{k=1}^D (x_{ik} - x_{jk})^2}\n",
    "$$\n",
    "\n",
    "A continuación se muestran dos códigos que cumplen este proposito y obtienen un resultado equivalente\n",
    "\n",
    "- El primero usa \"Python puro\" y calcula las distancias de forma secuencial\n",
    "- El segundo usa operaciones vectoriales de NumPy y calcula las distancias \"al mismo tiempo\"\n",
    "\n",
    "Estudie ambos códigos hasta comprenderlos"
   ]
  },
  {
   "cell_type": "code",
   "execution_count": null,
   "metadata": {
    "ExecuteTime": {
     "end_time": "2020-08-13T03:55:13.695572Z",
     "start_time": "2020-08-13T03:54:45.448185Z"
    }
   },
   "outputs": [],
   "source": [
    "data = np.random.randn(1000, 2)\n",
    "\n",
    "def distancia_pares(data):    \n",
    "    N, D = data.shape\n",
    "    dist = np.empty(shape=(N, N))\n",
    "    for i in range(N):\n",
    "        for j in range(N):\n",
    "            dist[i, j] = 0\n",
    "            for k in range(D):\n",
    "                dist[i, j] += (data[i, k] - data[j, k])**2\n",
    "            dist[i, j] = np.sqrt(dist[i, j])\n",
    "    return dist\n",
    "            \n",
    "def distancia_pares_numpy(data):\n",
    "    return np.sqrt(np.sum((data.reshape(-1, 1, 2) - data.reshape(1, -1, 2))**2, axis=-1))\n",
    "\n",
    "display(np.allclose(distancia_pares(data), distancia_pares_numpy(data)))\n",
    "%timeit -r3 -n1 distancia_pares(data)\n",
    "%timeit -r3 -n1 distancia_pares_numpy(data)"
   ]
  },
  {
   "cell_type": "markdown",
   "metadata": {},
   "source": [
    "## Cython en IPython\n",
    "\n",
    "Ahora escribamos una versión en Cython de la función `distancia_pares`\n",
    "\n",
    "Primero debemos instalar cython en nuestro ambiente de conda\n",
    "\n",
    "    conda install cython\n",
    "\n",
    "Luego en IPython podemos cargar la extensión `cython`"
   ]
  },
  {
   "cell_type": "code",
   "execution_count": null,
   "metadata": {
    "ExecuteTime": {
     "end_time": "2020-08-13T03:56:29.291079Z",
     "start_time": "2020-08-13T03:56:28.951870Z"
    }
   },
   "outputs": [],
   "source": [
    "%load_ext cython"
   ]
  },
  {
   "cell_type": "markdown",
   "metadata": {},
   "source": [
    "con esto tendremos disponible la magia de bloque `%%cython` \n",
    "\n",
    "- Esto hace que un bloque acepte lenguaje cython y que se compile al ejecutarlo\n",
    "- Luego podremos llamar las funciones de ese bloque desde bloques regulares de Python\n",
    "- Los errores de compilación aparecen como la salida del bloque\n",
    "- Este bloque está \"desconectado\" del resto del notebook, por lo que debe tener sus propios `import`\n",
    "- Opciones de magia \n",
    "    - `-a` (annotate) retorna un profile linea a linea indicando con amarillo las llamadas a CPython (mientras más llamadas más lento es nuestro código)\n",
    "    - `-+` Usar C++ en lugar de C\n",
    "    - `-c` Argumentos de compilación\n",
    "    - `-l` librerías para linkear a nuestro código\n",
    "    - `-L` directorio con librerías\n",
    "    - `-I` directorio con cabeceras (include)   \n"
   ]
  },
  {
   "cell_type": "code",
   "execution_count": null,
   "metadata": {
    "ExecuteTime": {
     "end_time": "2020-08-13T03:56:44.705943Z",
     "start_time": "2020-08-13T03:56:43.159007Z"
    }
   },
   "outputs": [],
   "source": [
    "%%cython -a\n",
    "\n",
    "import numpy as np\n",
    "\n",
    "def distancia_pares_cython_inocente(data):    \n",
    "    N, D = data.shape\n",
    "    dist = np.empty(shape=(N, N))\n",
    "    for i in range(N):\n",
    "        for j in range(N):\n",
    "            dist[i, j] = 0.0\n",
    "            for k in range(D):\n",
    "                dist[i, j] += (data[i, k] - data[j, k])**2\n",
    "            dist[i, j] = np.sqrt(dist[i, j])\n",
    "    return dist"
   ]
  },
  {
   "cell_type": "code",
   "execution_count": null,
   "metadata": {
    "ExecuteTime": {
     "end_time": "2020-08-13T03:57:44.406726Z",
     "start_time": "2020-08-13T03:56:51.050444Z"
    }
   },
   "outputs": [],
   "source": [
    "display(np.allclose(distancia_pares(data), distancia_pares_cython_inocente(data)))\n",
    "%timeit -r3 -n1 distancia_pares(data)\n",
    "%timeit -r3 -n1 distancia_pares_numpy(data)\n",
    "%timeit -r3 -n1 distancia_pares_cython_inocente(data)"
   ]
  },
  {
   "cell_type": "markdown",
   "metadata": {},
   "source": [
    "Como no hemos hecho ningún cambio el resultado solo es levemente mejor que la versión en Python puro\n",
    "\n",
    "El primer paso para ganar rendimiento es usar [**tipos estáticos** para las variables y las funciones](https://cython.readthedocs.io/en/latest/src/quickstart/cythonize.html)\n"
   ]
  },
  {
   "cell_type": "markdown",
   "metadata": {},
   "source": [
    "\n",
    "### Definiendo tipos en Cython\n",
    "\n",
    "En Cython se definen tipos estáticos con el keyword `cdef` seguido del tipo y luego el nombre \n",
    "\n",
    "Por ejemplo una variable de tipo `double` llamada `mi_variable`:\n",
    "\n",
    "    cdef double mi_variable \n",
    "    \n",
    "Para los arreglos se usan [\"memory-views\"](https://cython.readthedocs.io/en/latest/src/userguide/memoryviews.html#memoryviews)\n",
    "\n",
    "Por ejemplo un *memory-view* para una arreglo de tres dimensiones:\n",
    "\n",
    "    cdef double [:, :, :] mi_arreglo\n",
    "    \n",
    "Puede ganarase un poco más de rendimiento especificando si el arreglo es *row-major* (estilo C)\n",
    "\n",
    "    cdef double [:, :, ::1] mi_arreglo\n",
    "    \n",
    "o *column-major* (estilo Fortran)\n",
    "\n",
    "    cdef double [::1, :, :] mi_arreglo"
   ]
  },
  {
   "cell_type": "code",
   "execution_count": null,
   "metadata": {
    "ExecuteTime": {
     "end_time": "2020-08-13T03:58:26.550621Z",
     "start_time": "2020-08-13T03:58:19.414246Z"
    }
   },
   "outputs": [],
   "source": [
    "%%cython -a \n",
    "\n",
    "import numpy as np\n",
    "\n",
    "def distancia_pares_cython_estatico(double [:, ::1] data):\n",
    "    # Definimos el tipo de N, D, dist y data\n",
    "    cdef int N = data.shape[0]\n",
    "    cdef int D = data.shape[1]\n",
    "    dist = np.empty(shape=(N, N), dtype=np.double)\n",
    "    cdef double [:, ::1] dist_view = dist\n",
    "    # También definimos los índices, se puede usar int o Py_ssize_t \n",
    "    cdef Py_ssize_t i, j, k\n",
    "    for i in range(N):\n",
    "        for j in range(N):\n",
    "            dist_view[i, j] = 0.0\n",
    "            for k in range(D):\n",
    "                dist_view[i, j] += (data[i, k] - data[j, k])**2\n",
    "            dist_view[i, j] = np.sqrt(dist_view[i, j])\n",
    "    return dist"
   ]
  },
  {
   "cell_type": "code",
   "execution_count": null,
   "metadata": {
    "ExecuteTime": {
     "end_time": "2020-08-13T03:58:59.731628Z",
     "start_time": "2020-08-13T03:58:29.578920Z"
    }
   },
   "outputs": [],
   "source": [
    "display(np.allclose(distancia_pares(data), distancia_pares_cython_estatico(data)))\n",
    "%timeit -r3 -n1 distancia_pares(data)\n",
    "%timeit -r3 -n1 distancia_pares_numpy(data) \n",
    "%timeit -r3 -n1 distancia_pares_cython_estatico(data)"
   ]
  },
  {
   "cell_type": "markdown",
   "metadata": {},
   "source": [
    "Con solo definir el tipo de data, dist, $N$, $D$ y los índices hemos obtenido un *speed-up* importante con respecto a \"Python puro\" aunque sigue siendo más lento que NumPy\n",
    "\n",
    "Observemos el código anotado y revisemos la cantidad de llamadas a CPython de cada linea\n",
    "\n",
    "La linea 17 es particularmente conflictiva \n",
    "- involucra una gran cantidad de instrucciones\n",
    "- se llama NxN veces\n",
    "\n",
    "esto se debe a que estamos usando la función de NumPy `np.sqrt` \n",
    "\n",
    "Podemos obtener un rendimiento mucho mejor si usamos la implementación de raíz cuadrada de C"
   ]
  },
  {
   "cell_type": "markdown",
   "metadata": {},
   "source": [
    "\n",
    "\n",
    "### Llamando funciones de C desde Cython\n",
    "\n",
    "Es posible llamar funciones de C desde Cython de forma sencilla\n",
    "\n",
    "Consideremos como ejemplo la función `sqrt` de la [librería matemática estándar de C](http://pubs.opengroup.org/onlinepubs/9699919799/basedefs/math.h.html)\n",
    "\n",
    "Necesitamos dos cosas\n",
    "- Importar la función `sqrt` desde la cabecera `math.h`\n",
    "    - Esto se hace con el keyword `cdef extern from`\n",
    "- Compilar contra `libm`"
   ]
  },
  {
   "cell_type": "code",
   "execution_count": null,
   "metadata": {
    "ExecuteTime": {
     "end_time": "2020-08-13T03:59:36.558499Z",
     "start_time": "2020-08-13T03:59:29.381600Z"
    }
   },
   "outputs": [],
   "source": [
    "%%cython -a -l m\n",
    "\n",
    "import numpy as np\n",
    "\n",
    "cdef extern from \"math.h\":\n",
    "    double sqrt(double)\n",
    "\n",
    "def distancia_pares_cython_sqrtC(double [:, ::1] data):\n",
    "    # Definimos el tipo de N, D, dist y data\n",
    "    cdef int N = data.shape[0]\n",
    "    cdef int D = data.shape[1]\n",
    "    dist = np.empty(shape=(N, N), dtype=np.double)\n",
    "    cdef double [:, ::1] dist_view = dist\n",
    "    # También definimos los índices, se puede usar int o Py_ssize_t \n",
    "    cdef Py_ssize_t i, j, k\n",
    "    for i in range(N):\n",
    "        for j in range(N):\n",
    "            dist_view[i, j] = 0.0\n",
    "            for k in range(D):\n",
    "                dist_view[i, j] += (data[i, k] - data[j, k])**2\n",
    "            dist_view[i, j] = sqrt(dist_view[i, j])\n",
    "    return dist"
   ]
  },
  {
   "cell_type": "code",
   "execution_count": null,
   "metadata": {
    "ExecuteTime": {
     "end_time": "2020-08-13T03:59:50.618042Z",
     "start_time": "2020-08-13T03:59:40.323782Z"
    }
   },
   "outputs": [],
   "source": [
    "display(np.allclose(distancia_pares(data), distancia_pares_cython_sqrtC(data)))\n",
    "#%timeit -r3 -n1 distancia_pares(data)\n",
    "%timeit -r3 -n1 distancia_pares_numpy(data) \n",
    "%timeit -r3 -n1 distancia_pares_cython_estatico(data)\n",
    "%timeit -r3 -n1 distancia_pares_cython_sqrtC(data)"
   ]
  },
  {
   "cell_type": "markdown",
   "metadata": {},
   "source": [
    "Con esta simple modificación hemos obtenido un tiempo de ejecución incluso menor que la implementación en NumPy\n",
    "\n",
    "\n",
    "**Más importante aun:** usando `extern` podemos hacer interfaces [entre Python y casi cualquier código escrito en C](https://cython.readthedocs.io/en/latest/src/tutorial/clibraries.html)\n",
    "\n"
   ]
  },
  {
   "cell_type": "markdown",
   "metadata": {},
   "source": [
    "### Deshabilitando comprobaciones para ir aun más rápido\n",
    "\n",
    "Podemos hacer nuestro código más rápido (y más inseguro) deshabilitando las verificaciones que Python realiza por defecto\n",
    "\n",
    "En Cython esto se hace usando decoradores que funcionan como directivas de compilación. Las opciones disponibles se encuentrán [aquí](https://cython.readthedocs.io/en/latest/src/userguide/source_files_and_compilation.html#compiler-directives)\n",
    "\n",
    "En este caso deshabilitaremos dos verificaciones: *boundscheck* y *wraparound*\n",
    "\n",
    "> El código no comprobará si escribimos fuera del arreglo y tampoco traducirá índices negativos\n",
    "\n",
    "También aprovecharemos de hacer un cambio menor que nos será de utilidad más adelante:\n",
    "- Definiremos el tipo de data y dist de forma más conveniente usando `ctypedef`\n",
    "- Para esto incluiremos un modulo de Cython llamado numpy usando `cimport` que contiene definiciones tipo C   "
   ]
  },
  {
   "cell_type": "code",
   "execution_count": null,
   "metadata": {
    "ExecuteTime": {
     "end_time": "2020-08-13T04:01:06.392691Z",
     "start_time": "2020-08-13T04:00:58.807210Z"
    }
   },
   "outputs": [],
   "source": [
    "%%cython -a -l m\n",
    "import cython\n",
    "cimport numpy as npc\n",
    "import numpy as np\n",
    "\n",
    "# Por conveniencia podemos definir el tipo de data y dist con \n",
    "ctypedef npc.float64_t TIPO_t\n",
    "TIPO = np.float64\n",
    "\n",
    "cdef extern from \"math.h\":\n",
    "    TIPO_t sqrt(TIPO_t)\n",
    "\n",
    "# Deshabilitamos las comprobaciones de Python:\n",
    "@cython.boundscheck(False)\n",
    "@cython.wraparound(False)\n",
    "def distancia_pares_cython(TIPO_t [:, ::1] data):\n",
    "    cdef int N = data.shape[0]\n",
    "    cdef int M = data.shape[1]\n",
    "    dist = np.empty(shape=(N, N), dtype=TIPO)\n",
    "    cdef TIPO_t [:, ::1] dist_view = dist\n",
    "    cdef Py_ssize_t i, j, k\n",
    "    for i in range(N):\n",
    "        for j in range(N):\n",
    "            dist_view[i, j] = 0.0\n",
    "            for k in range(M):\n",
    "                dist_view[i, j] += (data[i, k] - data[j, k])**2\n",
    "            dist_view[i, j] = sqrt(dist_view[i, j])\n",
    "    return dist"
   ]
  },
  {
   "cell_type": "code",
   "execution_count": null,
   "metadata": {
    "ExecuteTime": {
     "end_time": "2020-08-13T04:01:42.147786Z",
     "start_time": "2020-08-13T04:01:12.352243Z"
    }
   },
   "outputs": [],
   "source": [
    "display(np.allclose(distancia_pares(data), distancia_pares_cython(data)))\n",
    "#%timeit -r3 -n1 distancia_pares(data)\n",
    "%timeit -r3 -n1 distancia_pares_numpy(data) \n",
    "%timeit -r3 -n1 distancia_pares_cython_estatico(data)\n",
    "%timeit -r3 -n1 distancia_pares_cython_sqrtC(data)\n",
    "%timeit -r3 -n1 distancia_pares_cython(data)"
   ]
  },
  {
   "cell_type": "markdown",
   "metadata": {},
   "source": [
    "Un leve speed-up \"casi gratis\""
   ]
  },
  {
   "cell_type": "markdown",
   "metadata": {},
   "source": [
    "###  Mayor flexibilidad con tipos de Cython fusionados \n",
    "\n",
    "En este momento es importante recordar lo que hemos perdido con Cython: **Flexibilidad**\n",
    "\n",
    "Si usamos un argumento que no sea `double` nuestra función en Cython retornará un error\n",
    "\n",
    "Es nuestra responsabilidad evitar que esto ocurra"
   ]
  },
  {
   "cell_type": "code",
   "execution_count": null,
   "metadata": {
    "ExecuteTime": {
     "end_time": "2020-08-13T04:01:49.003597Z",
     "start_time": "2020-08-13T04:01:48.983202Z"
    }
   },
   "outputs": [],
   "source": [
    "display(\"La función funciona para tipo: \", data.dtype)\n",
    "data_float32 = data.astype(np.float32)\n",
    "display(\"Pero retorna un error si la ejecutamos con\", data_float32.dtype)\n",
    "distancia_pares_cython(data_float32)"
   ]
  },
  {
   "cell_type": "markdown",
   "metadata": {},
   "source": [
    "Podemos aliviar este problema usando la definición de tipos fusionado de Cython\n",
    "\n",
    "    ctypedef fused NOMBRE:\n",
    "\n",
    "En esta caso modificaremos la función `distancia_pares_cython` para que acepte los tipos double e float\n",
    "\n",
    "\"Por debajo\" Cython creará dos funciones en lugar de una\n",
    "\n",
    "No hay que olvidar importar la definición de `sqrtf` de `math.h`"
   ]
  },
  {
   "cell_type": "code",
   "execution_count": null,
   "metadata": {
    "ExecuteTime": {
     "end_time": "2020-08-13T04:02:35.023969Z",
     "start_time": "2020-08-13T04:02:25.889221Z"
    }
   },
   "outputs": [],
   "source": [
    "%%cython -a -l m\n",
    "import cython\n",
    "cimport numpy as npc\n",
    "import numpy as np\n",
    "\n",
    "# Tipo fusionado\n",
    "ctypedef fused TIPO_t:\n",
    "    npc.float32_t\n",
    "    npc.float64_t\n",
    "    \n",
    "cdef extern from \"math.h\":\n",
    "    npc.float32_t sqrtf(npc.float32_t) #Definición para float32\n",
    "    npc.float64_t sqrt(npc.float64_t) # Definición para float64\n",
    "\n",
    "@cython.boundscheck(False)\n",
    "@cython.wraparound(False)\n",
    "def distancia_pares_cython_multitipo(TIPO_t [:, ::1] data):\n",
    "    cdef int N = data.shape[0]\n",
    "    cdef int M = data.shape[1]\n",
    "    # Comprobamos el tipo antes de crear el arreglo de numpy\n",
    "    if TIPO_t is npc.float32_t:\n",
    "        TIPO = np.float32\n",
    "    else:\n",
    "        TIPO = np.float64\n",
    "    dist = np.empty(shape=(N, N), dtype=TIPO)\n",
    "    cdef TIPO_t [:, ::1] dist_view = dist\n",
    "    cdef Py_ssize_t i, j, k\n",
    "    for i in range(N):\n",
    "        for j in range(N):\n",
    "            dist_view[i, j] = 0.0\n",
    "            for k in range(M):\n",
    "                dist_view[i, j] += (data[i, k] - data[j, k])**2\n",
    "            if TIPO_t is npc.float32_t:\n",
    "                dist_view[i, j] = sqrtf(dist_view[i, j])\n",
    "            else:\n",
    "                dist_view[i, j] = sqrt(dist_view[i, j])\n",
    "    return dist"
   ]
  },
  {
   "cell_type": "code",
   "execution_count": null,
   "metadata": {
    "ExecuteTime": {
     "end_time": "2020-08-13T04:03:40.607697Z",
     "start_time": "2020-08-13T04:02:55.040455Z"
    }
   },
   "outputs": [],
   "source": [
    "display(np.allclose(distancia_pares_numpy(data), distancia_pares_cython_multitipo(data)))\n",
    "display(np.allclose(distancia_pares_numpy(data_float32), distancia_pares_cython_multitipo(data_float32)))\n",
    "#%timeit -r3 -n1 distancia_pares(data_float32)\n",
    "%timeit -r3 -n1 distancia_pares_numpy(data_float32)\n",
    "%timeit -r3 -n1 distancia_pares_cython_multitipo(data_float32)"
   ]
  },
  {
   "cell_type": "markdown",
   "metadata": {},
   "source": [
    "El resultado usando `float` es equivalente al de NumPy\n",
    "\n",
    "La velocidad es similar a la de `distancia_pares_cython`. La pérdida de rendimiento no es notoria"
   ]
  },
  {
   "cell_type": "markdown",
   "metadata": {},
   "source": [
    "## Ejemplo: \"Cythonizando\" el fractal de Julia\n",
    "\n",
    "Partiendo del código de Python puro del fractal de Julia, escribimos una versión en Cython\n",
    "\n",
    "Recordemos:\n",
    "\n",
    "- Usamos `cdef` para definir las variables con tipo estático\n",
    "    - También podemos usar `cdef` para definir funciones con tipo\n",
    "    - Las funciones con tipo solo pueden ser llamadas por otras funciones de Cython\n",
    "- Usamos `ctypedef` para definir tipos \n",
    "- Usamos `cimport` para importar otros módulos de Cython\n",
    "- Usamos memory-views con el tipo adecuado para conectar con NumPy en la salida\n",
    "- Deshabilitamos las comprobaciones de Python para ganar más velocidad"
   ]
  },
  {
   "cell_type": "code",
   "execution_count": null,
   "metadata": {
    "ExecuteTime": {
     "end_time": "2020-08-13T04:04:31.862704Z",
     "start_time": "2020-08-13T04:04:24.167736Z"
    }
   },
   "outputs": [],
   "source": [
    "%%cython\n",
    "import cython\n",
    "cimport numpy as npc\n",
    "import numpy as np\n",
    "\n",
    "ctypedef npc.float64_t TIPOF_t\n",
    "ctypedef npc.int64_t TIPOI_t\n",
    "\n",
    "# Las funciones con cdef solo pueden ser llamadas desde Cython\n",
    "cdef TIPOI_t evaluate_z(TIPOF_t zi, TIPOF_t zr, int maxiters=50, TIPOF_t cr=-0.835, TIPOF_t ci=-0.2321):\n",
    "    cdef:\n",
    "        TIPOI_t nit = 0\n",
    "        TIPOF_t zi2 = zi**2\n",
    "        TIPOF_t zr2 = zr**2\n",
    "        \n",
    "    while zi2 + zr2 <= 4. and nit < maxiters:\n",
    "        zi = 2.*zr*zi + ci\n",
    "        zr = zr2 - zi2 + cr\n",
    "        zr2 = zr**2\n",
    "        zi2 = zi**2 \n",
    "        nit +=1\n",
    "    return nit\n",
    "\n",
    "# Las funciones con def pueden ser llamadas desde Python\n",
    "@cython.boundscheck(False)\n",
    "@cython.wraparound(False)\n",
    "@cython.cdivision(True)\n",
    "def make_fractal_cython(int N, TIPOI_t [:, ::1] image_view, int maxiters=50):\n",
    "    cdef:\n",
    "        Py_ssize_t i, j\n",
    "    # Los ndarray no se copian, los podemos modificar inplace desde Cython\n",
    "    for i in range(N):\n",
    "        for j in range(2*N):\n",
    "            image_view[i, j] = evaluate_z(-1.+i*2./N, -2.+j*2./N, maxiters)"
   ]
  },
  {
   "cell_type": "code",
   "execution_count": null,
   "metadata": {
    "ExecuteTime": {
     "end_time": "2020-08-13T04:04:42.023109Z",
     "start_time": "2020-08-13T04:04:35.818166Z"
    }
   },
   "outputs": [],
   "source": [
    "N = 500\n",
    "image_cython = np.empty(shape=(N, 2*N), dtype=np.int64)\n",
    "make_fractal_cython(N, image_cython) \n",
    "\n",
    "display(np.allclose(make_fractal(N), image_cython))\n",
    "\n",
    "%timeit -r3 -n1 make_fractal(N)\n",
    "%timeit -r3 -n1 make_fractal_vectorized(N)\n",
    "%timeit -r3 -n1 make_fractal_cython(N, image_cython)"
   ]
  },
  {
   "cell_type": "markdown",
   "metadata": {},
   "source": [
    "El resultado es idéntico al código secuencial en \"Python puro\" y el tiempo es considerablemente menor"
   ]
  },
  {
   "cell_type": "markdown",
   "metadata": {},
   "source": [
    "Ahora podemos dibujar el fractal en mayor resolución en un tiempo razonable :)"
   ]
  },
  {
   "cell_type": "code",
   "execution_count": null,
   "metadata": {
    "ExecuteTime": {
     "end_time": "2020-08-13T04:04:47.717668Z",
     "start_time": "2020-08-13T04:04:47.286457Z"
    }
   },
   "outputs": [],
   "source": [
    "N = 2000\n",
    "image_cython = np.empty(shape=(N, 2*N), dtype=np.int64)\n",
    "make_fractal_cython(N, image_cython) \n",
    "\n",
    "plt.figure(figsize=(8, 4), tight_layout=True)\n",
    "plt.gca().axis('off')\n",
    "plt.imshow(image_cython);"
   ]
  },
  {
   "cell_type": "markdown",
   "metadata": {},
   "source": [
    "**Propuesto: Dibuje curvas de *speed-up* para**\n",
    "- Cython vs \"Python puro\" \n",
    "- Cython vs Numpy \n",
    "\n",
    "considerando $N=10, 50, 100, 500, 1000, 5000$"
   ]
  },
  {
   "cell_type": "markdown",
   "metadata": {},
   "source": [
    "## Usando Cython fuera de Jupyter\n",
    "\n",
    "El código cython se guarda tipicamente con extensión `pyx`\n",
    "\n",
    "Se genera un código C usando `cython` usando la opción `-3` para indicar que se usará Python 3"
   ]
  },
  {
   "cell_type": "code",
   "execution_count": null,
   "metadata": {},
   "outputs": [],
   "source": [
    "!cython -3 fractal_cython.pyx"
   ]
  },
  {
   "cell_type": "markdown",
   "metadata": {},
   "source": [
    "Luego usamos nuestro compilador de C preferido apuntando adecuadamente a las cabeceras y librerías de Python 3 (y en este caso de NumPy también)\n",
    "\n",
    "Debemos generar una libreria compartida (shared)"
   ]
  },
  {
   "cell_type": "code",
   "execution_count": null,
   "metadata": {},
   "outputs": [],
   "source": [
    "!gcc -I/usr/include/python3.7m/ -I/usr/lib/python3.7/site-packages/numpy/core/include/ -L/usr/lib -lm -lpython3 -fPIC -shared fractal_cython.c -o fractal_cython.so"
   ]
  },
  {
   "cell_type": "markdown",
   "metadata": {},
   "source": [
    "Luego podemos importar la librería como un módulo de Python cualquiera"
   ]
  },
  {
   "cell_type": "code",
   "execution_count": null,
   "metadata": {},
   "outputs": [],
   "source": [
    "from fractal_cython import make_fractal_cython as make_fractal_imported\n",
    "image_cython_imported = np.empty(shape=(N, 2*N), dtype=np.int64)\n",
    "make_fractal_imported(N, image_cython_imported)\n",
    "np.allclose(image_cython, image_cython_imported)"
   ]
  },
  {
   "cell_type": "markdown",
   "metadata": {},
   "source": [
    "Limpiamos nuestros compilados si ya no son necesarios:"
   ]
  },
  {
   "cell_type": "code",
   "execution_count": null,
   "metadata": {},
   "outputs": [],
   "source": [
    "!rm fractal_cython.c fractal_cython.so"
   ]
  },
  {
   "cell_type": "markdown",
   "metadata": {},
   "source": [
    "## Tópicos adicionales\n",
    "\n",
    "Lecturas sobre temas específicos de Cython:\n",
    "- [Incluyendo código Cython en un módulo de Python](https://cython.readthedocs.io/en/latest/src/quickstart/build.html#building-a-cython-module-using-distutils)\n",
    "- [Haciendo profiling de código Cython](https://cython.readthedocs.io/en/latest/src/tutorial/profiling_tutorial.html)\n",
    "- [Malloc/Free en Cython](https://cython.readthedocs.io/en/latest/src/tutorial/memory_allocation.html)\n",
    "- Libro [Cython: A Guide for Python Programmers](https://pythonbooks.org/cython-a-guide-for-python-programmers/)"
   ]
  },
  {
   "cell_type": "markdown",
   "metadata": {},
   "source": [
    "# Compilación Just-in-time (JIT) con Numba\n",
    "\n",
    "Tema para otra iteración"
   ]
  },
  {
   "cell_type": "code",
   "execution_count": null,
   "metadata": {},
   "outputs": [],
   "source": [
    "from numba import jit"
   ]
  },
  {
   "cell_type": "markdown",
   "metadata": {},
   "source": [
    "# Conectando Fortran y Python con [F2PY](https://docs.scipy.org/doc/numpy/f2py/)\n",
    "\n",
    "Tema para otra iteración"
   ]
  },
  {
   "cell_type": "code",
   "execution_count": null,
   "metadata": {},
   "outputs": [],
   "source": []
  }
 ],
 "metadata": {
  "kernelspec": {
   "display_name": "Python 3",
   "language": "python",
   "name": "python3"
  },
  "language_info": {
   "codemirror_mode": {
    "name": "ipython",
    "version": 3
   },
   "file_extension": ".py",
   "mimetype": "text/x-python",
   "name": "python",
   "nbconvert_exporter": "python",
   "pygments_lexer": "ipython3",
   "version": "3.8.3"
  },
  "toc": {
   "base_numbering": 1,
   "nav_menu": {},
   "number_sections": true,
   "sideBar": true,
   "skip_h1_title": false,
   "title_cell": "Table of Contents",
   "title_sidebar": "Contents",
   "toc_cell": false,
   "toc_position": {},
   "toc_section_display": true,
   "toc_window_display": true
  }
 },
 "nbformat": 4,
 "nbformat_minor": 2
}
