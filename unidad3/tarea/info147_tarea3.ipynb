{
 "cells": [
  {
   "cell_type": "markdown",
   "metadata": {},
   "source": [
    "### Instrucciones generales <a class=\"tocSkip\"></a>\n",
    "1. Forme un grupo de **máximo dos estudiantes**\n",
    "1. Copie este notebook y **modifique el nombre de archivo** agregando los apellidos de ambos miembros. Por ejemplo si los miembros del grupo son Pablo Huijse y Ana Nuñez el nombre sería: `info147_tarea2_huijse_nuñez.ipynb`\n",
    "1. Versione su trabajo usando un **repositorio privado de github**. Agregue a su compañero y a su profesor (usuario github: phuijse) en la pestaña Puede agregar a su compañero en la pestaña *Settings/Manage access*\n",
    "1. Se evaluará el último commit antes de la fecha y hora de entrega\n",
    "1. [Sean honestos](https://www.acm.org/about-acm/code-of-ethics-in-spanish)"
   ]
  },
  {
   "cell_type": "markdown",
   "metadata": {},
   "source": [
    "# Tarea 3 Parte A: Optimización de una rutina"
   ]
  },
  {
   "cell_type": "markdown",
   "metadata": {},
   "source": [
    "Considere las siguientes funciones y resuelva las actividades que se describen a continuación"
   ]
  },
  {
   "cell_type": "code",
   "execution_count": null,
   "metadata": {
    "ExecuteTime": {
     "end_time": "2020-08-13T04:19:05.519186Z",
     "start_time": "2020-08-13T04:19:05.413098Z"
    }
   },
   "outputs": [],
   "source": [
    "import numpy as np\n",
    "\n",
    "# Generar un conjunto de datos de ND datos cada uno de largo NT con distribución log-normal\n",
    "def generate_data(ND, NT):\n",
    "    time = np.linspace(0, 1, num=NT)\n",
    "    cov = 0.1*np.exp(-0.5*(time[:, None]  - time[:, None].T)**2/0.5**2)\n",
    "    data = np.exp(np.random.multivariate_normal(mean=np.zeros(NT), cov=cov, size=ND))\n",
    "    return time, data\n",
    "\n",
    "# Ajustar un modelo polinomial de cuarto grado a los datos y calcular el MSE\n",
    "def slow_function(time, data):\n",
    "    ND, NT = data.shape\n",
    "    X = np.vstack([time**k for k in range(4)]).T\n",
    "    Phi = np.linalg.pinv(X)\n",
    "    mse = np.zeros(shape=(ND,))\n",
    "    theta = np.zeros(shape=(ND, 4))\n",
    "    for i, y in enumerate(data):\n",
    "        y_log = np.log(y)\n",
    "        y_mean = np.mean(y_log)\n",
    "        y_var = np.var(y_log)\n",
    "        y_norm = (y_log - y_mean)/np.sqrt(y_var)\n",
    "        theta[i, :] = np.dot(Phi, y_norm)\n",
    "        model = np.dot(X, theta[i, :])\n",
    "        mse[i] = np.mean((y_norm - model)**2)\n",
    "    return mse, theta  "
   ]
  },
  {
   "cell_type": "markdown",
   "metadata": {},
   "source": [
    "## Midiendo tiempo total\n",
    "\n",
    "1. Para 20 valores de ND distintos generados con `np.logspace(1, 5, num=20).astype(int)`\n",
    "    1. Genere un conjunto de datos de tamaño ND y largo NT=1000 usando `generate_data`\n",
    "    1. Mida y guarde el tiempo total promedio (10 repeticiones) que toma ajustar un modelo polinomial a los ND datos con `slow_function`\n",
    "        > HINT: Puede usar el argumento `-o` de la magia timeit para guardar el resultado\n",
    "1. Use matplotlib para generar un gráfico de (tiempo total promedio) con barras de error y otro de (tiempo total promedio)/ND\n",
    "    1. Estudie ambos gráficos y discuta lo que observa. ¿Qué está ocurriendo en el segundo gráfico? ¿Qué relación tiene con el overhead?"
   ]
  },
  {
   "cell_type": "code",
   "execution_count": null,
   "metadata": {},
   "outputs": [],
   "source": []
  },
  {
   "cell_type": "markdown",
   "metadata": {},
   "source": [
    "## Profiling \n",
    "\n",
    "Genere un conjunto de datos de tamaño 10000 y largo 1000\n",
    "\n",
    "1. Haga un profiling con cProfile con la magia `%prun`\n",
    "    1. Use los argumentos `-q -T texto` para escribir un archivo de texto con el resultado\n",
    "    1. Imprima el resultado con funciones de `bash`\n",
    "    1. ¿Cuáles son las 5 funciones con mayor tiempo total?\n",
    "    1. ¿Cuáles son las 5 funciones con mayor tiempo acumulado?\n",
    "1. Haga un profiling linea a linea con la magia `%lprun`\n",
    "    1. Use el argumento `-T texto` para escribir un archivo de texto con el resultado\n",
    "    1. Imprima el resultado con funciones de `bash`\n",
    "    1. ¿Cuáles son las 5 lineas más costosas?\n"
   ]
  },
  {
   "cell_type": "code",
   "execution_count": null,
   "metadata": {},
   "outputs": [],
   "source": []
  },
  {
   "cell_type": "markdown",
   "metadata": {},
   "source": [
    "## Cythonizando\n",
    "\n",
    "Escriba una función de Cython que retorne el mismo resultado que `slow_function`\n",
    "1. Considere los resultados de su profiling para escribir versiones cythonizadas de las funciones de numpy que considere necesario\n",
    "1. Importe el logaritmo y la raiz cuadrada de `math.h`\n",
    "1. Use decoradores para levantar las verificaciones de Python\n",
    "1. Use vistas para los arreglos de NumPy\n",
    "1. Mida el tiempo total promedio (10 repeticiones) para conjuntos de datos de tamaño`N=np.logspace(1, 5, num=20).astype(int)` y largo 1000\n",
    "1. Haga una gráfica de speed-up (tiempo cython/tiempo slow_function) en función de $N$\n",
    "1. Estudie y discuta lo que observa"
   ]
  },
  {
   "cell_type": "code",
   "execution_count": null,
   "metadata": {},
   "outputs": [],
   "source": []
  },
  {
   "cell_type": "markdown",
   "metadata": {},
   "source": [
    "## Paralelizando\n",
    "\n",
    "Escriba una versión paralela de su código Cython usando `parallel for` de OpenMP\n",
    "1. Levante el GIL donde corresponda\n",
    "1. Use un número de hilos adecuado para su computador\n",
    "1. Mida el tiempo total promedio (10 repeticiones) para conjuntos de datos de tamaño`N=np.logspace(1, 5, num=20).astype(int)` y largo 1000\n",
    "1. Haga una gráfica de speed-up (tiempo cython paralelo/tiempo cython secuencial) en función de $N$\n",
    "1. Estudie y discuta lo que observa "
   ]
  },
  {
   "cell_type": "code",
   "execution_count": null,
   "metadata": {},
   "outputs": [],
   "source": []
  },
  {
   "cell_type": "markdown",
   "metadata": {},
   "source": [
    "# Tarea 3 Parte B"
   ]
  },
  {
   "cell_type": "code",
   "execution_count": null,
   "metadata": {},
   "outputs": [],
   "source": []
  }
 ],
 "metadata": {
  "kernelspec": {
   "display_name": "Python 3",
   "language": "python",
   "name": "python3"
  },
  "language_info": {
   "codemirror_mode": {
    "name": "ipython",
    "version": 3
   },
   "file_extension": ".py",
   "mimetype": "text/x-python",
   "name": "python",
   "nbconvert_exporter": "python",
   "pygments_lexer": "ipython3",
   "version": "3.8.3"
  },
  "toc": {
   "base_numbering": 1,
   "nav_menu": {},
   "number_sections": true,
   "sideBar": true,
   "skip_h1_title": false,
   "title_cell": "Table of Contents",
   "title_sidebar": "Contents",
   "toc_cell": false,
   "toc_position": {},
   "toc_section_display": true,
   "toc_window_display": false
  }
 },
 "nbformat": 4,
 "nbformat_minor": 2
}
