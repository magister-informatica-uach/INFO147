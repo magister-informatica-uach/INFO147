{
 "cells": [
  {
   "cell_type": "markdown",
   "metadata": {},
   "source": [
    "Tenemos un dataset de pacientes con cancer de mama \n",
    "\n",
    "Cada paciente está representado por\n",
    "- x: radio de la muestra (continua)\n",
    "- z: textura de la muestra (continua)\n",
    "- y: etiqueta de la muestra (0:maligno o 1:benigno)\n",
    "\n",
    "El dataset tiene 569 pacientes, 212 con tumores malignos(0) y 357 tumores benignos (1)"
   ]
  },
  {
   "cell_type": "code",
   "execution_count": null,
   "metadata": {},
   "outputs": [],
   "source": [
    "x, y = data_set['data'][:, :2], data_set['target']\n",
    "fig, ax = plt.subplots(figsize=(5, 3), tight_layout=True)\n",
    "ax.scatter(x[y==0, 0], x[y==0, 1], c='k', s=10, marker='o', label='Sanos', alpha=0.5)\n",
    "ax.scatter(x[y==1, 0], x[y==1, 1], c='k', s=10, marker='x', label='Cancer', alpha=0.5)\n",
    "plt.legend();"
   ]
  },
  {
   "cell_type": "markdown",
   "metadata": {},
   "source": [
    "Usando el teorema de Bayes podemos escribir la probabilidad de que el tumor sea benigno dada sus características (*posterior*) como\n",
    "\n",
    "$$\n",
    "p(y=1|x, z) = \\frac{p(x, z|y=1) p(y=1)}{p(x, z)}\n",
    "$$\n",
    "\n",
    "y la probabilidad de que sea maligno como\n",
    "$$\n",
    "p(y=0|x, z) = \\frac{p(x, z|y=0) p(y=0)}{p(x, z)}\n",
    "$$\n",
    "\n",
    "- Nos interesa saber si $p(y=0|x, z) > p(y=1|x, z)$\n",
    "- La evidencia $p(x, z)$ es difícil de estimar \n",
    "\n",
    "Entonces\n",
    "\n",
    "$$\n",
    "\\frac{p(y=1|x, z)}{p(y=0|x, z)} = \\frac{p(x, z|y=1) p(y=1)}{p(x, z|y=0) p(y=0)}\n",
    "$$\n",
    "\n",
    "y los *priors*: $p(y=0) = \\frac{212}{569} \\approx 0.41$, $p(y=1) = \\frac{357}{569} \\approx 0.59$\n",
    "\n",
    "Lo único que falta es la verosimilitud, asumiremos que\n",
    "\n",
    "- las características son condicionalmente independientes\n",
    "$$\n",
    "p(x, z|y) = p(x|y) p(z|y)\n",
    "$$\n",
    "- las características son normales\n",
    "$$\n",
    "p(x|y) = \\mathcal{N}(\\mu_x, \\sigma_x^2)\n",
    "$$\n",
    "\n",
    "Estos supuestos son lo que hacen al clasificador \"ingenuo\""
   ]
  },
  {
   "cell_type": "code",
   "execution_count": null,
   "metadata": {},
   "outputs": [],
   "source": [
    "# Probabilidades a priori\n",
    "from collections import Counter\n",
    "py = [Counter(y)[i]/len(y) for i in range(2)]\n",
    "# Ajuste de verosimilitudes\n",
    "dists = {}\n",
    "for y_ in [0, 1]: # Para cada clase\n",
    "    for x_ in [0, 1]: # para cada característica\n",
    "        params = scipy.stats.norm.fit(x[y==y_, x_])\n",
    "        dists[(y_, x_)] = scipy.stats.norm(loc=params[-2], scale=params[-1])\n",
    "\n",
    "def likelihoods(x, z):\n",
    "    pxzy0 = dists[(0, 0)].pdf(x)*dists[(0, 1)].pdf(z)\n",
    "    pxzy1 = dists[(1, 0)].pdf(x)*dists[(1, 1)].pdf(z)\n",
    "    return pxzy0, pxzy1, (pxzy1*py[1])/(pxzy0*py[0])\n",
    "\n",
    "fig, ax = plt.subplots(figsize=(5, 3), tight_layout=True)\n",
    "for k, (label, marker) in enumerate(zip(['Sanos', 'Cancer'], ['o', 'x'])):\n",
    "    ax.scatter(x[y==k, 0], x[y==k, 1], c='k', s=10, \n",
    "               marker=marker, label=label, alpha=0.5)\n",
    "\n",
    "x_plot = np.linspace(np.amin(x[:, 0]), np.amax(x[:, 0]), num=500)\n",
    "z_plot = np.linspace(np.amin(x[:, 1]), np.amax(x[:, 1]), num=500)\n",
    "X, Z = np.meshgrid(x_plot, z_plot)\n",
    "Y = likelihoods(X, Z)\n",
    "ax.contourf(X, Z, Y[1] - Y[0], zorder=-1, cmap=plt.cm.RdBu, \n",
    "            vmin=-2e-2, vmax=2e-2, levels=20)\n",
    "ax.set_xlim([np.amin(x_plot), np.amax(x_plot)])\n",
    "ax.set_ylim([np.amin(z_plot), np.amax(z_plot)])\n",
    "ax.set_xlabel('X'); ax.set_ylabel('Z');\n",
    "plt.legend();"
   ]
  },
  {
   "cell_type": "markdown",
   "metadata": {},
   "source": [
    "Decidimos entre sano y enfermo usando el cociente entre los posterior\n",
    "\n",
    "$$\n",
    "\\frac{p(y=1|x, z)}{p(y=0|x, z)} > R\n",
    "$$\n",
    "\n",
    "Dos tipos de errores:\n",
    "1. Predecir que está enfermo $\\hat y=1$ cuando en realidad estaba sano $y=0$\n",
    "1. Predecir que está sano $\\hat y=0$ cuando en realidad estaba enfermo $y=1$\n",
    "\n",
    "¿Las decisiones tienen igual riesgo ($R$=1) ? \n",
    "\n",
    "Podemos \"calibrar\" la importancia de las decisiones usando un $R$ mayor o menor que $1$"
   ]
  },
  {
   "cell_type": "code",
   "execution_count": null,
   "metadata": {},
   "outputs": [],
   "source": [
    "ax.contour(X, Z, Y[2] > 1., zorder=-1, levels=[0]);\n",
    "#ax.contour(X, Z, Y[2] > 0.5, zorder=-1, levels=[0]);\n",
    "#ax.contour(X, Z, Y[2] > 0.1, zorder=-1, levels=[0]);"
   ]
  },
  {
   "cell_type": "markdown",
   "metadata": {},
   "source": [
    "#### Resumen\n",
    "- Cada clase es representada por una distribución Gaussiana\n",
    "- Entrenamos cada Gaussiana por **máxima verosimilitud**\n",
    "- El cociente entre los posterior nos da la clase más probable\n",
    "- **Ventajas:** Fácil de entrenar, en general no se sobreajusta\n",
    "- **Desventajas:** Supuestos fuertes, características independientes y probabilidades normales\n",
    "- Podemos entrenar un clasificador para datos discretos si usamos distribuciones multinomiales\n",
    "- Implementación en [scikit-learn](https://scikit-learn.org/stable/modules/naive_bayes.html)\n",
    "- [Más sobre clasificador bayesiano](https://jakevdp.github.io/PythonDataScienceHandbook/05.05-naive-bayes.html)\n"
   ]
  },
  {
   "cell_type": "code",
   "execution_count": null,
   "metadata": {},
   "outputs": [],
   "source": []
  }
 ],
 "metadata": {
  "kernelspec": {
   "display_name": "Python 3",
   "language": "python",
   "name": "python3"
  },
  "language_info": {
   "codemirror_mode": {
    "name": "ipython",
    "version": 3
   },
   "file_extension": ".py",
   "mimetype": "text/x-python",
   "name": "python",
   "nbconvert_exporter": "python",
   "pygments_lexer": "ipython3",
   "version": "3.8.3"
  },
  "toc": {
   "base_numbering": 1,
   "nav_menu": {},
   "number_sections": true,
   "sideBar": true,
   "skip_h1_title": false,
   "title_cell": "Table of Contents",
   "title_sidebar": "Contents",
   "toc_cell": false,
   "toc_position": {},
   "toc_section_display": true,
   "toc_window_display": false
  }
 },
 "nbformat": 4,
 "nbformat_minor": 4
}
